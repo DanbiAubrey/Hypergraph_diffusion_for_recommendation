{
 "cells": [
  {
   "cell_type": "code",
   "execution_count": 4,
   "id": "45980acc",
   "metadata": {},
   "outputs": [
    {
     "name": "stdout",
     "output_type": "stream",
     "text": [
      "tensor(indices=tensor([[1, 1, 1, 2, 3],\n",
      "                       [1, 2, 3, 1, 2]]),\n",
      "       values=tensor([6., 4., 8., 7., 9.]),\n",
      "       size=(4, 4), nnz=5, layout=torch.sparse_coo)\n",
      "tensor(indices=tensor([[1, 1, 1, 2, 3],\n",
      "                       [1, 2, 3, 1, 2]]),\n",
      "       values=tensor([0.1173, 0.0159, 0.8668, 1.0000, 1.0000]),\n",
      "       size=(4, 4), nnz=5, layout=torch.sparse_coo)\n"
     ]
    }
   ],
   "source": [
    "import torch\n",
    "\n",
    "rows = torch.tensor([1, 1, 1, 2, 3])\n",
    "cols = torch.tensor([1, 2, 3, 1, 2])\n",
    "\n",
    "indices = torch.stack([rows, cols])\n",
    "values = torch.tensor([6, 4, 8, 7, 9], dtype = torch.long).float()\n",
    "A_in = torch.sparse.FloatTensor(indices, values, torch.Size([4, 4]))\n",
    "A_in_soft = torch.sparse.softmax(A_in, dim=1)\n",
    "\n",
    "print(A_in)\n",
    "print(A_in_soft)"
   ]
  },
  {
   "cell_type": "code",
   "execution_count": 5,
   "id": "a2e482e9",
   "metadata": {},
   "outputs": [
    {
     "name": "stdout",
     "output_type": "stream",
     "text": [
      "tensor([[1, 1, 1, 1],\n",
      "        [2, 2, 2, 2],\n",
      "        [3, 3, 3, 3]])\n"
     ]
    }
   ],
   "source": [
    "x = torch.tensor([[1], [2], [3]])  # 크기: [3, 1]\n",
    "\n",
    "# 두 번째 차원을 4로 확장\n",
    "x_expanded = x.expand(-1, 4)\n",
    "print(x_expanded)"
   ]
  },
  {
   "cell_type": "code",
   "execution_count": null,
   "id": "f2dd0247",
   "metadata": {},
   "outputs": [],
   "source": []
  }
 ],
 "metadata": {
  "kernelspec": {
   "display_name": "selfrec",
   "language": "python",
   "name": "selfrec"
  },
  "language_info": {
   "codemirror_mode": {
    "name": "ipython",
    "version": 3
   },
   "file_extension": ".py",
   "mimetype": "text/x-python",
   "name": "python",
   "nbconvert_exporter": "python",
   "pygments_lexer": "ipython3",
   "version": "3.9.18"
  }
 },
 "nbformat": 4,
 "nbformat_minor": 5
}
